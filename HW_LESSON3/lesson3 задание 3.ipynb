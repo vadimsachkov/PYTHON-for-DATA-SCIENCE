{
 "cells": [
  {
   "cell_type": "code",
   "execution_count": 1,
   "metadata": {},
   "outputs": [],
   "source": [
    "import numpy as np"
   ]
  },
  {
   "cell_type": "markdown",
   "metadata": {},
   "source": [
    "### 1.Создать одномерный массив Numpy под названием a из 12 последовательных целых чиселчисел от 12 до 24 невключительно"
   ]
  },
  {
   "cell_type": "code",
   "execution_count": 2,
   "metadata": {},
   "outputs": [
    {
     "data": {
      "text/plain": [
       "array([12, 13, 14, 15, 16, 17, 18, 19, 20, 21, 22, 23])"
      ]
     },
     "execution_count": 2,
     "metadata": {},
     "output_type": "execute_result"
    }
   ],
   "source": [
    "a=np.arange(12,24)\n",
    "a"
   ]
  },
  {
   "cell_type": "markdown",
   "metadata": {},
   "source": [
    "### 2.Создать 5 двумерных массивов разной формы из массива a. Не использовать в аргументахметода reshape число -1."
   ]
  },
  {
   "cell_type": "code",
   "execution_count": 3,
   "metadata": {},
   "outputs": [
    {
     "data": {
      "text/plain": [
       "array([12, 14, 16, 18, 20, 22, 13, 15, 17, 19, 21, 23])"
      ]
     },
     "execution_count": 3,
     "metadata": {},
     "output_type": "execute_result"
    }
   ],
   "source": [
    "a2_1= a.reshape(2,6)      # переформатирует массив в 2 строки и 6 столбцов \n",
    "a2_2= a.reshape(3,4)\n",
    "a2_3= a.reshape(4,3)\n",
    "a2_4= a.reshape(6,2)\n",
    "a2_5= a.reshape(12,1)\n",
    "a2_6= a.reshape(1,12)\n",
    "a2_6= a.reshape(3,-1)         # если аргумент -1 - подобрать этот аргумент автоматически в зависимости от второго заданного\n",
    "a2_6=a2_6.flatten('F')\n",
    "a2_4.flatten('F')             # записывает массив в 1 строку в стиле фортрана - по столбцам а не по строкам как  в numpy"
   ]
  },
  {
   "cell_type": "markdown",
   "metadata": {},
   "source": [
    "### 3.Создать 5 двумерных массивов разной формы из массива a. Использовать в аргументахметода reshape число -1 (в трех примерах - для обозначения числа столбцов, в двух - для строк)"
   ]
  },
  {
   "cell_type": "code",
   "execution_count": 4,
   "metadata": {},
   "outputs": [],
   "source": [
    "a3_1= a.reshape(2,-1)\n",
    "a3_2= a.reshape(3,-1)\n",
    "a3_3= a.reshape(4,-1)\n",
    "a3_4= a.reshape(-1,2)\n",
    "a3_5= a.reshape(-1,3)\n",
    "a3_6= a.reshape(-1,4)"
   ]
  },
  {
   "cell_type": "markdown",
   "metadata": {},
   "source": [
    "### 4.Можно ли массив Numpy, состоящий из одного столбца и 12 строк, назвать одномерным?\n"
   ]
  },
  {
   "cell_type": "code",
   "execution_count": 5,
   "metadata": {},
   "outputs": [
    {
     "name": "stdout",
     "output_type": "stream",
     "text": [
      "Массив a многомерный\n"
     ]
    }
   ],
   "source": [
    "a4=a.reshape(1,12)\n",
    "print (\"Массив a \" +  ('одномерный' if(np.ndim(a4) ==1) else 'многомерный') )"
   ]
  },
  {
   "cell_type": "markdown",
   "metadata": {},
   "source": [
    "### 5. Создать массив из 3 строк и 4 столбцов, состоящий из случайных чисел с плавающей запятой\n",
    "из нормального распределения со средним, равным 0 и среднеквадратичным отклонением,\n",
    "равным 1.0. Получить из этого массива одномерный массив с таким же атрибутом size, как и\n",
    "исходный массив."
   ]
  },
  {
   "cell_type": "code",
   "execution_count": 6,
   "metadata": {},
   "outputs": [
    {
     "name": "stdout",
     "output_type": "stream",
     "text": [
      "size a5= 12, size a5_1= 12\n"
     ]
    }
   ],
   "source": [
    "a5= np.random.randn(3,4)\n",
    "a5_1=a5.flatten()\n",
    "print (f\"size a5= {np.size(a5)}, size a5_1= {np.size(a5_1)}\")"
   ]
  },
  {
   "cell_type": "markdown",
   "metadata": {},
   "source": [
    "### 6.Создать массив a, состоящий из целых чисел, убывающих от 20 до 0 невключительно синтервалом 2."
   ]
  },
  {
   "cell_type": "code",
   "execution_count": 7,
   "metadata": {},
   "outputs": [
    {
     "name": "stdout",
     "output_type": "stream",
     "text": [
      "[20 18 16 14 12 10  8  6  4  2] <class 'numpy.ndarray'> (10,)\n"
     ]
    }
   ],
   "source": [
    "a6=np.arange(20,0,-2)\n",
    "print(a6, type(a6), np.shape(a6))"
   ]
  },
  {
   "cell_type": "markdown",
   "metadata": {},
   "source": [
    "### 7. Создать массив b, состоящий из 1 строки и 10 столбцов: целых чисел, убывающих от 20 до 1невключительно с интервалом 2. В чем разница между массивами a и b?"
   ]
  },
  {
   "cell_type": "code",
   "execution_count": 8,
   "metadata": {},
   "outputs": [
    {
     "name": "stdout",
     "output_type": "stream",
     "text": [
      "[[20 18 16 14 12 10  8  6  4  2]] <class 'numpy.ndarray'> (1, 10)\n"
     ]
    }
   ],
   "source": [
    "a7=np.arange(20,1,-2).reshape(1,-1)\n",
    "print(a7, type(a7), np.shape(a7))\n",
    "# соединить два массива\n",
    "a7_1=np.concatenate((a6.reshape(1,-1), a7), axis=0)"
   ]
  },
  {
   "cell_type": "markdown",
   "metadata": {},
   "source": [
    "### 8.Вертикально соединить массивы a и b. a - двумерный массив из нулей, число строк которогобольше 1 и на 1 меньше, чем число строк двумерного массива b, состоящего из единиц.Итоговый массив v должен иметь атрибут size, равный 10."
   ]
  },
  {
   "cell_type": "code",
   "execution_count": 9,
   "metadata": {},
   "outputs": [
    {
     "data": {
      "text/plain": [
       "10"
      ]
     },
     "execution_count": 9,
     "metadata": {},
     "output_type": "execute_result"
    }
   ],
   "source": [
    "b=np.ones((3,2))\n",
    "a=np.zeros((np.shape(b)[0]-1, 2))\n",
    "c=np.concatenate((b,a))\n",
    "c.size\n",
    "\n"
   ]
  },
  {
   "cell_type": "markdown",
   "metadata": {},
   "source": [
    "### 9.Создать одномерный массив а, состоящий из последовательности целых чисел от 0 до 12.Поменять форму этого массива, чтобы получилась матрица A (двумерный массив Numpy),состоящая из 4 строк и 3 столбцов. Получить матрицу At путем транспонирования матрицы A.Получить матрицу B, умножив матрицу A на матрицу At с помощью матричного умножения.Какой размер имеет матрица B? Получится ли вычислить обратную матрицу для матрицы B ипочему?"
   ]
  },
  {
   "cell_type": "code",
   "execution_count": 10,
   "metadata": {},
   "outputs": [
    {
     "name": "stdout",
     "output_type": "stream",
     "text": [
      "[[  5  14  23  32]\n",
      " [ 14  50  86 122]\n",
      " [ 23  86 149 212]\n",
      " [ 32 122 212 302]]\n",
      "(4, 4)\n",
      "\n",
      "Определитель матрицы  B = 0.0\n",
      "\n",
      "Ранг матрицы  B = 2\n"
     ]
    }
   ],
   "source": [
    "a=np.arange(0,12)\n",
    "A=a.reshape(4,-1)\n",
    "At=A.T\n",
    "B=np.dot(A,At)\n",
    "print(B)\n",
    "print (np.shape(B))\n",
    "\n",
    "# Вычисялем определитель матрицы\n",
    "print (\"\\nОпределитель матрицы  B = {0}\".format(np.linalg.det(B)))\n",
    "\n",
    "# Вычиcляем ранг матрицы\n",
    "print (\"\\nРанг матрицы  B = {0}\".format(np.linalg.matrix_rank(B)))\n",
    "\n",
    "# так как определитель матрицы B  равен 0 , то вычислениt обратной матрицы невозможен\n"
   ]
  },
  {
   "cell_type": "markdown",
   "metadata": {},
   "source": [
    "### 10. Инициализируйте генератор случайных числе с помощью объекта seed, равного 42.\n",
    "11.Создайте одномерный массив c, составленный из последовательности 16-ти случайныхравномерно распределенных целых чисел от 0 до 16 невключительно\n"
   ]
  },
  {
   "cell_type": "code",
   "execution_count": 11,
   "metadata": {},
   "outputs": [
    {
     "name": "stdout",
     "output_type": "stream",
     "text": [
      "[ 6  3 12 14 10  7 12  4  6  9  2  6 10 10  7  4]\n",
      "[ 3  7  7  2  5  4  1  7 11 13  5  1 15 11  4  0]\n",
      "[ 6  3 12 14 10  7 12  4  6  9  2  6 10 10  7  4]\n"
     ]
    }
   ],
   "source": [
    "# 10 задача\n",
    "np.random.seed(42)\n",
    "\n",
    "## 11 задача\n",
    "print (np.random.randint(16, size=16))\n",
    "print (np.random.randint(16, size=16))\n",
    "\n",
    "np.random.seed(42)\n",
    "\n",
    "c=np.random.randint(16, size=16)\n",
    "print (c)\n",
    "\n",
    "# как видно массивы совпадают , значит генерация начинается с той же последовательности\n"
   ]
  },
  {
   "cell_type": "markdown",
   "metadata": {},
   "source": [
    "### 12.Поменяйте его форму так, чтобы получилась квадратная матрица C. Получите матрицу D,поэлементно прибавив матрицу B из предыдущего вопроса к матрице C, умноженной на 10.Вычислите определитель, ранг и обратную матрицу D_inv для D."
   ]
  },
  {
   "cell_type": "code",
   "execution_count": 12,
   "metadata": {},
   "outputs": [
    {
     "name": "stdout",
     "output_type": "stream",
     "text": [
      "[[ 6  3 12 14]\n",
      " [10  7 12  4]\n",
      " [ 6  9  2  6]\n",
      " [10 10  7  4]]\n"
     ]
    }
   ],
   "source": [
    "C=c.reshape(4,4)\n",
    "print(C)"
   ]
  },
  {
   "cell_type": "code",
   "execution_count": 22,
   "metadata": {},
   "outputs": [
    {
     "data": {
      "text/plain": [
       "array([[ 65,  44, 143, 172],\n",
       "       [114, 120, 206, 162],\n",
       "       [ 83, 176, 169, 272],\n",
       "       [132, 222, 282, 342]])"
      ]
     },
     "execution_count": 22,
     "metadata": {},
     "output_type": "execute_result"
    }
   ],
   "source": [
    "D= B + C * 10\n",
    "D"
   ]
  },
  {
   "cell_type": "code",
   "execution_count": 15,
   "metadata": {},
   "outputs": [
    {
     "name": "stdout",
     "output_type": "stream",
     "text": [
      "\n",
      "Ранг матрицы  D = 4\n",
      "\n",
      "Определитель матрицы  D = -28511999.999999944\n"
     ]
    },
    {
     "data": {
      "text/plain": [
       "array([[ 0.00935396,  0.04486532,  0.05897517, -0.07286055],\n",
       "       [-0.01503577, -0.00122896, -0.00192971,  0.00967873],\n",
       "       [-0.00356692, -0.01782828, -0.04152146,  0.04326178],\n",
       "       [ 0.00909091, -0.00181818,  0.01272727, -0.01090909]])"
      ]
     },
     "execution_count": 15,
     "metadata": {},
     "output_type": "execute_result"
    }
   ],
   "source": [
    "# Вычиcляем ранг матрицы D\n",
    "print (\"\\nРанг матрицы  D = {0}\".format(np.linalg.matrix_rank(D)))\n",
    "\n",
    "# Вычисялем определитель матрицы D. Ранг матрицы равен размеру матрицы , поэтому определитель должен быть отличен от нуля\n",
    "print (\"\\nОпределитель матрицы  D = {0}\".format(np.linalg.det(D)))\n",
    "\n",
    "# так как определитель матрицы D отличен от нуля, то возможно вычислить обратную матрицу\n",
    "D_inv = np.linalg.inv(D)\n",
    "\n",
    "D_inv"
   ]
  },
  {
   "cell_type": "markdown",
   "metadata": {},
   "source": [
    "### 13. Приравняйте к нулю отрицательные числа в матрице D_inv, а положительные - к единице. Убедитесь, что в матрице D_inv остались только нули и единицы. С помощью функции numpy.where, используя матрицу D_inv в качестве маски, а матрицы B и C - в качестве источников данных, получите матрицу E размером 4x4.  Элементы матрицы E, для которых соответствующий элемент матрицы D_inv равен 1, должны быть равны соответствующему элементу матрицы B, а элементы матрицы E, для которых соответствующий элемент матрицы D_inv равен 0, должны быть равны соответствующему элементу матрицы C."
   ]
  },
  {
   "cell_type": "code",
   "execution_count": 21,
   "metadata": {},
   "outputs": [
    {
     "data": {
      "text/plain": [
       "array([[1., 1., 1., 0.],\n",
       "       [0., 0., 0., 1.],\n",
       "       [0., 0., 0., 1.],\n",
       "       [1., 0., 1., 0.]])"
      ]
     },
     "execution_count": 21,
     "metadata": {},
     "output_type": "execute_result"
    }
   ],
   "source": [
    "D_inv13=D_inv.copy()\n",
    "D_inv13[D_inv13<0]=0        # изменяем отриц. на нули\n",
    "D_inv13[D_inv13>0]=1        # изменяем положительные на еденицы\n",
    "\n",
    "D_inv13"
   ]
  },
  {
   "cell_type": "code",
   "execution_count": 18,
   "metadata": {},
   "outputs": [
    {
     "data": {
      "text/plain": [
       "array([[1., 1., 1., 0.],\n",
       "       [0., 0., 0., 1.],\n",
       "       [0., 0., 0., 1.],\n",
       "       [1., 0., 1., 0.]])"
      ]
     },
     "execution_count": 18,
     "metadata": {},
     "output_type": "execute_result"
    }
   ],
   "source": []
  },
  {
   "cell_type": "code",
   "execution_count": 29,
   "metadata": {},
   "outputs": [
    {
     "name": "stdout",
     "output_type": "stream",
     "text": [
      "[[  5  14  23  32]\n",
      " [ 14  50  86 122]\n",
      " [ 23  86 149 212]\n",
      " [ 32 122 212 302]]\n",
      "[[ 6  3 12 14]\n",
      " [10  7 12  4]\n",
      " [ 6  9  2  6]\n",
      " [10 10  7  4]]\n",
      "[[  5  14  23  14]\n",
      " [ 10   7  12 122]\n",
      " [  6   9   2 212]\n",
      " [ 32  10 212   4]]\n"
     ]
    }
   ],
   "source": [
    "E=np.where(D_inv13, B,C)\n",
    "print(B)\n",
    "print(C)\n",
    "print(E)"
   ]
  },
  {
   "cell_type": "code",
   "execution_count": null,
   "metadata": {},
   "outputs": [],
   "source": []
  }
 ],
 "metadata": {
  "kernelspec": {
   "display_name": "Python 3",
   "language": "python",
   "name": "python3"
  },
  "language_info": {
   "codemirror_mode": {
    "name": "ipython",
    "version": 3
   },
   "file_extension": ".py",
   "mimetype": "text/x-python",
   "name": "python",
   "nbconvert_exporter": "python",
   "pygments_lexer": "ipython3",
   "version": "3.7.6"
  }
 },
 "nbformat": 4,
 "nbformat_minor": 4
}
