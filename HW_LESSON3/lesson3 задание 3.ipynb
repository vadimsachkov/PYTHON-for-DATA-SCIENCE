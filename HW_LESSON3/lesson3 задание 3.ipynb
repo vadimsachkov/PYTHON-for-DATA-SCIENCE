{
 "cells": [
  {
   "cell_type": "code",
   "execution_count": 9,
   "metadata": {},
   "outputs": [],
   "source": [
    "import numpy as np"
   ]
  },
  {
   "cell_type": "markdown",
   "metadata": {},
   "source": [
    "1.Создать одномерный массив Numpy под названием a из 12 последовательных целых чиселчисел от 12 до 24 невключительно"
   ]
  },
  {
   "cell_type": "code",
   "execution_count": 11,
   "metadata": {},
   "outputs": [
    {
     "data": {
      "text/plain": [
       "array([12, 13, 14, 15, 16, 17, 18, 19, 20, 21, 22, 23])"
      ]
     },
     "execution_count": 11,
     "metadata": {},
     "output_type": "execute_result"
    }
   ],
   "source": [
    "a=np.arange(12,24)\n",
    "a"
   ]
  },
  {
   "cell_type": "markdown",
   "metadata": {},
   "source": [
    "2.Создать 5 двумерных массивов разной формы из массива a. Не использовать в аргументахметода reshape число -1."
   ]
  },
  {
   "cell_type": "code",
   "execution_count": 25,
   "metadata": {},
   "outputs": [
    {
     "data": {
      "text/plain": [
       "array([12, 14, 16, 18, 20, 22, 13, 15, 17, 19, 21, 23])"
      ]
     },
     "execution_count": 25,
     "metadata": {},
     "output_type": "execute_result"
    }
   ],
   "source": [
    "a2_1= a.reshape(2,6)      # переформатирует массив в 2 строки и 6 столбцов \n",
    "a2_2= a.reshape(3,4)\n",
    "a2_3= a.reshape(4,3)\n",
    "a2_4= a.reshape(6,2)\n",
    "a2_5= a.reshape(12,1)\n",
    "a2_6= a.reshape(1,12)\n",
    "a2_6= a.reshape(3,-1)         # если аргумент -1 - подобрать этот аргумент автоматически в зависимости от второго заданного\n",
    "a2_6=a2_6.flatten('F')\n",
    "a2_4.flatten('F')             # записывает массив в 1 строку в стиле фортрана - по столбцам а не по строкам как  в numpy"
   ]
  },
  {
   "cell_type": "markdown",
   "metadata": {},
   "source": [
    "3.Создать 5 двумерных массивов разной формы из массива a. Использовать в аргументахметода reshape число -1 (в трех примерах - для обозначения числа столбцов, в двух - для строк)"
   ]
  },
  {
   "cell_type": "code",
   "execution_count": null,
   "metadata": {},
   "outputs": [],
   "source": [
    "a3_1= a.reshape(2,-1)\n",
    "a3_2= a.reshape(3,-1)\n",
    "a3_3= a.reshape(4,-1)\n",
    "a3_4= a.reshape(-1,2)\n",
    "a3_5= a.reshape(-1,3)\n",
    "a3_6= a.reshape(-1,4)"
   ]
  },
  {
   "cell_type": "markdown",
   "metadata": {},
   "source": [
    "4.Можно ли массив Numpy, состоящий из одного столбца и 12 строк, назвать одномерным?\n"
   ]
  },
  {
   "cell_type": "code",
   "execution_count": 52,
   "metadata": {},
   "outputs": [
    {
     "name": "stdout",
     "output_type": "stream",
     "text": [
      "Массив a многомерный\n"
     ]
    }
   ],
   "source": [
    "a4=a.reshape(1,12)\n",
    "print (\"Массив a \" +  ('одномерный' if(np.ndim(a4) ==1) else 'многомерный') )"
   ]
  },
  {
   "cell_type": "markdown",
   "metadata": {},
   "source": [
    "5. Создать массив из 3 строк и 4 столбцов, состоящий из случайных чисел с плавающей запятой\n",
    "из нормального распределения со средним, равным 0 и среднеквадратичным отклонением,\n",
    "равным 1.0. Получить из этого массива одномерный массив с таким же атрибутом size, как и\n",
    "исходный массив."
   ]
  },
  {
   "cell_type": "code",
   "execution_count": null,
   "metadata": {},
   "outputs": [],
   "source": [
    "a5= np.random.randn(3,4)"
   ]
  }
 ],
 "metadata": {
  "kernelspec": {
   "display_name": "Python 3",
   "language": "python",
   "name": "python3"
  },
  "language_info": {
   "codemirror_mode": {
    "name": "ipython",
    "version": 3
   },
   "file_extension": ".py",
   "mimetype": "text/x-python",
   "name": "python",
   "nbconvert_exporter": "python",
   "pygments_lexer": "ipython3",
   "version": "3.7.6"
  }
 },
 "nbformat": 4,
 "nbformat_minor": 4
}
