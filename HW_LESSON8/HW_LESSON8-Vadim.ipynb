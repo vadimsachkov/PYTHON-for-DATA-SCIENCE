{
 "cells": [
  {
   "cell_type": "markdown",
   "metadata": {},
   "source": [
    "### Задание 1"
   ]
  },
  {
   "cell_type": "raw",
   "metadata": {},
   "source": [
    "Импортируйте библиотеки pandas, numpy и matplotlib.\n",
    "Загрузите \"Boston House Prices dataset\" из встроенных наборов данных библиотеки sklearn.\n",
    "Создайте датафреймы X и y из этих данных.\n",
    "Разбейте эти датафреймы на тренировочные (X_train, y_train) и тестовые (X_test, y_test) с помощью функции train_test_split так, чтобы размер тестовой выборки составлял 20% от всех данных, при этом аргумент random_state должен быть равен 42.\n",
    "Масштабируйте данные с помощью StandardScaler.\n",
    "Постройте модель TSNE на тренировочный данных с параметрами: n_components=2, learning_rate=250, random_state=42.\n",
    "Постройте диаграмму рассеяния на этих данных."
   ]
  },
  {
   "cell_type": "code",
   "execution_count": 95,
   "metadata": {},
   "outputs": [],
   "source": [
    "import numpy as np\n",
    "import pandas as pd\n",
    "import matplotlib.pyplot as plt"
   ]
  },
  {
   "cell_type": "code",
   "execution_count": 96,
   "metadata": {},
   "outputs": [
    {
     "data": {
      "text/plain": [
       "dict_keys(['data', 'target', 'feature_names', 'DESCR', 'filename'])"
      ]
     },
     "execution_count": 96,
     "metadata": {},
     "output_type": "execute_result"
    }
   ],
   "source": [
    "# Функция load_boston загружает датасет.\n",
    "from sklearn.datasets import load_boston\n",
    "# Загрузим датасет в переменную boston.\n",
    "boston = load_boston()\n",
    "# Этот датасет представлен в виде словаря. Посмотрим, какие у этого словаря есть ключи:\n",
    "boston.keys()"
   ]
  },
  {
   "cell_type": "code",
   "execution_count": 97,
   "metadata": {},
   "outputs": [],
   "source": [
    "X = pd.DataFrame(boston.data, columns=boston.feature_names)\n",
    "y = boston.target"
   ]
  },
  {
   "cell_type": "code",
   "execution_count": 98,
   "metadata": {},
   "outputs": [],
   "source": [
    "# Разбейте эти датафреймы на тренировочные (X_train, y_train) и тестовые (X_test, y_test) с помощью функции train_test_split \n",
    "# так, чтобы размер тестовой выборки составлял 20% от всех данных,\n",
    "# при этом аргумент random_state должен быть равен 42.\n",
    "from sklearn.model_selection import train_test_split\n",
    "X_train, X_test, y_train, y_test = train_test_split(X, y, test_size=0.2, random_state=42)"
   ]
  },
  {
   "cell_type": "code",
   "execution_count": 99,
   "metadata": {},
   "outputs": [],
   "source": [
    "#Масштабируйте данные с помощью StandardScaler.\n",
    "from sklearn.preprocessing import StandardScaler\n",
    "scaler = StandardScaler()\n",
    "\n",
    "X_train_scaled = pd.DataFrame(scaler.fit_transform(X_train), columns=X_train.columns)\n",
    "X_test_scaled = pd.DataFrame(scaler.transform(X_test), columns=X_test.columns)"
   ]
  },
  {
   "cell_type": "code",
   "execution_count": 100,
   "metadata": {},
   "outputs": [
    {
     "name": "stdout",
     "output_type": "stream",
     "text": [
      "До:\t(404, 13)\n",
      "После:\t(404, 2)\n"
     ]
    }
   ],
   "source": [
    "#Постройте модель TSNE на тренировочный данных с параметрами: n_components=2, learning_rate=250, random_state=42.\n",
    "from sklearn.manifold import TSNE\n",
    "tsne = TSNE(n_components=2, learning_rate=250, random_state=42)\n",
    "\n",
    "X_train_tsne = tsne.fit_transform(X_train_scaled)\n",
    "\n",
    "print('До:\\t{}'.format(X_train_scaled.shape))\n",
    "print('После:\\t{}'.format(X_train_tsne.shape))"
   ]
  },
  {
   "cell_type": "code",
   "execution_count": 101,
   "metadata": {},
   "outputs": [
    {
     "data": {
      "text/plain": [
       "array([[ 28.13809  ,  18.375324 ],\n",
       "       [ -9.785578 ,  -4.5355387],\n",
       "       [-15.695753 , -17.543627 ],\n",
       "       [ 37.924854 ,  13.517046 ],\n",
       "       [ -8.786393 ,   3.9951665]], dtype=float32)"
      ]
     },
     "execution_count": 101,
     "metadata": {},
     "output_type": "execute_result"
    }
   ],
   "source": [
    "X_train_tsne[0:5,:]"
   ]
  },
  {
   "cell_type": "code",
   "execution_count": 104,
   "metadata": {},
   "outputs": [
    {
     "data": {
      "image/png": "[encoded data removed]",
      "text/plain": [
       "<Figure size 432x288 with 1 Axes>"
      ]
     },
     "metadata": {
      "needs_background": "light"
     },
     "output_type": "display_data"
    }
   ],
   "source": [
    "# Постройте диаграмму рассеяния на этих данных.\n",
    "plt.scatter(X_train_tsne[:, 0], X_train_tsne[:, 1])\n",
    "\n",
    "plt.show()"
   ]
  },
  {
   "cell_type": "code",
   "execution_count": 105,
   "metadata": {},
   "outputs": [
    {
     "data": {
      "text/plain": [
       "array([[ 28.13809  ,  18.375324 ],\n",
       "       [ -9.785578 ,  -4.5355387],\n",
       "       [-15.695753 , -17.543627 ],\n",
       "       [ 37.924854 ,  13.517046 ],\n",
       "       [ -8.786393 ,   3.9951665]], dtype=float32)"
      ]
     },
     "execution_count": 105,
     "metadata": {},
     "output_type": "execute_result"
    }
   ],
   "source": [
    "X_train_tsne[:5]"
   ]
  },
  {
   "cell_type": "markdown",
   "metadata": {},
   "source": [
    "## Задание 2"
   ]
  },
  {
   "cell_type": "raw",
   "metadata": {},
   "source": [
    "С помощью KMeans разбейте данные из тренировочного набора на 3 кластера,\n",
    "используйте все признаки из датафрейма X_train.\n",
    "Параметр max_iter должен быть равен 100, random_state сделайте равным 42.\n",
    "Постройте еще раз диаграмму рассеяния на данных, полученных с помощью TSNE,\n",
    "и раскрасьте точки из разных кластеров разными цветами.\n",
    "Вычислите средние значения price и CRIM в разных кластерах."
   ]
  },
  {
   "cell_type": "code",
   "execution_count": 106,
   "metadata": {},
   "outputs": [
    {
     "data": {
      "text/plain": [
       "KMeans(algorithm='auto', copy_x=True, init='k-means++', max_iter=100,\n",
       "       n_clusters=3, n_init=10, n_jobs=None, precompute_distances='auto',\n",
       "       random_state=42, tol=0.0001, verbose=0)"
      ]
     },
     "execution_count": 106,
     "metadata": {},
     "output_type": "execute_result"
    }
   ],
   "source": [
    "# С помощью KMeans разбейте данные из тренировочного набора на 3 кластера,\n",
    "# используйте все признаки из датафрейма X_train.\n",
    "# Параметр max_iter должен быть равен 100, random_state сделайте равным 42.\n",
    "from sklearn.cluster import KMeans\n",
    "KMeans_model = KMeans(n_clusters=3, random_state=42, max_iter=100)\n",
    "KMeans_model.fit(X_train_scaled)"
   ]
  },
  {
   "cell_type": "code",
   "execution_count": 107,
   "metadata": {},
   "outputs": [],
   "source": [
    "# можно и одной командой train_labels = KMeans_model.fit_predict(X_train_scaled)\n",
    "train_labels = KMeans_model.predict(X_train_scaled)"
   ]
  },
  {
   "cell_type": "code",
   "execution_count": 126,
   "metadata": {},
   "outputs": [
    {
     "data": {
      "text/plain": [
       "<matplotlib.legend.Legend at 0x25e8af06348>"
      ]
     },
     "execution_count": 126,
     "metadata": {},
     "output_type": "execute_result"
    },
    {
     "data": {
      "image/png": "[encoded data removed]",
      "text/plain": [
       "<Figure size 432x288 with 1 Axes>"
      ]
     },
     "metadata": {
      "needs_background": "light"
     },
     "output_type": "display_data"
    }
   ],
   "source": [
    "# Постройте еще раз диаграмму рассеяния на данных, полученных с помощью TSNE,\n",
    "# и раскрасьте точки из разных кластеров разными цветами.\n",
    "plt.scatter(X_train_tsne[train_labels == 0, 0], X_train_tsne[train_labels == 0, 1], label=\"cat0\")\n",
    "plt.scatter(X_train_tsne[train_labels == 1, 0], X_train_tsne[train_labels == 1, 1], label=\"cat1\")\n",
    "plt.scatter(X_train_tsne[train_labels == 2, 0], X_train_tsne[train_labels == 2, 1], label=\"cat2\")\n",
    "plt.legend()"
   ]
  },
  {
   "cell_type": "code",
   "execution_count": 127,
   "metadata": {},
   "outputs": [
    {
     "data": {
      "text/plain": [
       "<matplotlib.legend.Legend at 0x25e887d76c8>"
      ]
     },
     "execution_count": 127,
     "metadata": {},
     "output_type": "execute_result"
    },
    {
     "data": {
      "image/png": "[encoded data removed]",
      "text/plain": [
       "<Figure size 432x288 with 1 Axes>"
      ]
     },
     "metadata": {
      "needs_background": "light"
     },
     "output_type": "display_data"
    }
   ],
   "source": [
    "# Постройте еще раз диаграмму рассеяния на данных, полученных с помощью TSNE,\n",
    "# и раскрасьте точки из разных кластеров разными цветами.\n",
    "plt.scatter(X_train_tsne[:, 0], X_train_tsne[:, 1], c=train_labels, label=np.unique(train_labels))\n",
    "plt.legend()\n",
    "\n"
   ]
  },
  {
   "cell_type": "code",
   "execution_count": 109,
   "metadata": {},
   "outputs": [
    {
     "name": "stdout",
     "output_type": "stream",
     "text": [
      "Кластер 0: 0.42166020942408367\n",
      "Кластер 1: 10.797028425196853\n",
      "Кластер 2: 0.07356558139534886\n"
     ]
    }
   ],
   "source": [
    "# Вычислите средние значения price CRIM в разных кластерах.\n",
    "print('Кластер 0: {}'.format(X_train.loc[train_labels == 0, 'CRIM'].mean()))\n",
    "print('Кластер 1: {}'.format(X_train.loc[train_labels == 1, 'CRIM'].mean()))\n",
    "print('Кластер 2: {}'.format(X_train.loc[train_labels == 2, 'CRIM'].mean()))"
   ]
  },
  {
   "cell_type": "code",
   "execution_count": 110,
   "metadata": {},
   "outputs": [
    {
     "name": "stdout",
     "output_type": "stream",
     "text": [
      "Кластер 0: 24.958115183246072\n",
      "Кластер 1: 16.165354330708663\n",
      "Кластер 2: 27.78837209302326\n"
     ]
    }
   ],
   "source": [
    "# Вычислите средние значения price  разных кластерах.\n",
    "print('Кластер 0: {}'.format(y_train[train_labels == 0].mean()))\n",
    "print('Кластер 1: {}'.format(y_train[train_labels == 1].mean()))\n",
    "print('Кластер 2: {}'.format(y_train[train_labels == 2].mean()))"
   ]
  },
  {
   "cell_type": "code",
   "execution_count": null,
   "metadata": {},
   "outputs": [],
   "source": []
  },
  {
   "cell_type": "markdown",
   "metadata": {},
   "source": [
    "### Задание 3"
   ]
  },
  {
   "cell_type": "code",
   "execution_count": null,
   "metadata": {},
   "outputs": [],
   "source": [
    "Примените модель KMeans, построенную в предыдущем задании,\n",
    "к данным из тестового набора.\n",
    "Вычислите средние значения price и CRIM в разных кластерах на тестовых данных."
   ]
  },
  {
   "cell_type": "code",
   "execution_count": 111,
   "metadata": {},
   "outputs": [],
   "source": [
    "# Примените модель KMeans, построенную в предыдущем задании, к данным из тестового набора.\n",
    "test_labels = KMeans_model.predict(X_test_scaled)"
   ]
  },
  {
   "cell_type": "code",
   "execution_count": 113,
   "metadata": {},
   "outputs": [
    {
     "name": "stdout",
     "output_type": "stream",
     "text": [
      "Кластер 0: 0.26607882352941176\n",
      "Кластер 1: 10.165531142857143\n",
      "Кластер 2: 0.062060000000000004\n"
     ]
    }
   ],
   "source": [
    "# Вычислите средние значения price CRIM в разных кластерах.\n",
    "print('Кластер 0: {}'.format(X_test.loc[test_labels == 0, 'CRIM'].mean()))\n",
    "print('Кластер 1: {}'.format(X_test.loc[test_labels == 1, 'CRIM'].mean()))\n",
    "print('Кластер 2: {}'.format(X_test.loc[test_labels == 2, 'CRIM'].mean()))"
   ]
  },
  {
   "cell_type": "code",
   "execution_count": 115,
   "metadata": {},
   "outputs": [
    {
     "name": "stdout",
     "output_type": "stream",
     "text": [
      "Кластер 0: 21.860784313725492\n",
      "Кластер 1: 16.43714285714286\n",
      "Кластер 2: 31.35\n"
     ]
    }
   ],
   "source": [
    "# Вычислите средние значения price  разных кластерах.\n",
    "print('Кластер 0: {}'.format(y_test[test_labels == 0].mean()))\n",
    "print('Кластер 1: {}'.format(y_test[test_labels == 1].mean()))\n",
    "print('Кластер 2: {}'.format(y_test[test_labels == 2].mean()))"
   ]
  }
 ],
 "metadata": {
  "kernelspec": {
   "display_name": "Python 3",
   "language": "python",
   "name": "python3"
  },
  "language_info": {
   "codemirror_mode": {
    "name": "ipython",
    "version": 3
   },
   "file_extension": ".py",
   "mimetype": "text/x-python",
   "name": "python",
   "nbconvert_exporter": "python",
   "pygments_lexer": "ipython3",
   "version": "3.7.6"
  }
 },
 "nbformat": 4,
 "nbformat_minor": 4
}
